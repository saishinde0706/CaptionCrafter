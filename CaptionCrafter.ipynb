{
 "cells": [
  {
   "cell_type": "code",
   "execution_count": 10,
   "id": "4a10eb6e-f714-4a41-be4b-dbdf67215887",
   "metadata": {},
   "outputs": [],
   "source": [
    "import openai\n",
    "import gradio as gr\n",
    "from PIL import Image\n",
    "from dotenv import load_dotenv\n",
    "import os"
   ]
  },
  {
   "cell_type": "code",
   "execution_count": 11,
   "id": "0ad2effb-7a34-4b15-bf1c-9bfe6466d142",
   "metadata": {},
   "outputs": [
    {
     "name": "stdout",
     "output_type": "stream",
     "text": [
      "None\n"
     ]
    }
   ],
   "source": [
    "load_dotenv(dotenv_path=\"/Users/sayeeshinde/Downloads/.env\")\n",
    "openai.api_key = os.getenv(\"OPENAI_API_KEY\")\n",
    "print(openai.api_key"
   ]
  },
  {
   "cell_type": "code",
   "execution_count": 5,
   "id": "baecc5a4-7091-47b2-b44d-e11b7ff428c5",
   "metadata": {},
   "outputs": [
    {
     "name": "stdout",
     "output_type": "stream",
     "text": [
      "* Running on local URL:  http://127.0.0.1:7860\n",
      "* To create a public link, set `share=True` in `launch()`.\n"
     ]
    },
    {
     "data": {
      "text/html": [
       "<div><iframe src=\"http://127.0.0.1:7860/\" width=\"100%\" height=\"500\" allow=\"autoplay; camera; microphone; clipboard-read; clipboard-write;\" frameborder=\"0\" allowfullscreen></iframe></div>"
      ],
      "text/plain": [
       "<IPython.core.display.HTML object>"
      ]
     },
     "metadata": {},
     "output_type": "display_data"
    },
    {
     "data": {
      "text/plain": []
     },
     "execution_count": 5,
     "metadata": {},
     "output_type": "execute_result"
    }
   ],
   "source": [
    "tones = [\"Funny\", \"Aesthetic\", \"Emotional\", \"Witty\", \"Motivational\", \"Romantic\"]\n",
    "emoji_levels = [\"None\", \"Light\", \"Medium\", \"Heavy\"]\n",
    "languages = {\n",
    "    \"English\": \"English\",\n",
    "    \"Hindi\": \"Hindi\",\n",
    "    \"Spanish\": \"Spanish\",\n",
    "    \"French\": \"French\",\n",
    "    \"German\": \"German\",\n",
    "    \"Italian\": \"Italian\"\n",
    "}\n",
    "\n",
    "# ✅ Prompt builder function\n",
    "def build_prompt(keywords, tone, emoji_density, language, image_desc=\"\"):\n",
    "    base = f\"Write an Instagram caption in {language}.\"\n",
    "\n",
    "    if tone:\n",
    "        base += f\" Tone: {tone}.\"\n",
    "    if emoji_density != \"None\":\n",
    "        base += f\" Use {emoji_density.lower()} emojis.\"\n",
    "    \n",
    "    if image_desc:\n",
    "        base += f\" The image shows: {image_desc}.\"\n",
    "\n",
    "    if keywords:\n",
    "        base += f\" Include themes: {keywords}.\"\n",
    "\n",
    "    base += \" Keep it short and creative.\"\n",
    "\n",
    "    return base\n",
    "\n",
    "# ✅ Caption generation function\n",
    "def generate_caption(keywords, tone, emoji_density, language, image):\n",
    "    image_desc = \"\"\n",
    "    if image:\n",
    "        image_desc = \"a general description of the image\"\n",
    "\n",
    "    prompt = build_prompt(keywords, tone, emoji_density, language, image_desc)\n",
    "\n",
    "    try:\n",
    "        response = openai.chat.completions.create(\n",
    "            model=\"gpt-4\",\n",
    "            messages=[\n",
    "                {\"role\": \"system\", \"content\": \"You are a creative social media caption writer.\"},\n",
    "                {\"role\": \"user\", \"content\": prompt}\n",
    "            ],\n",
    "            temperature=0.8,\n",
    "            max_tokens=100\n",
    "        )\n",
    "        caption = response.choices[0].message.content.strip()\n",
    "        return caption\n",
    "    except Exception as e:\n",
    "        return f\"❌ Error generating caption:\\n\\n{str(e)}\"\n",
    "\n",
    "# ✅ Gradio interface\n",
    "with gr.Blocks(title=\"CaptionCrafter\") as app:\n",
    "    gr.Markdown(\n",
    "        \"\"\"\n",
    "        <h1 style='text-align: center; font-size: 2.5rem;'>🪄 CaptionCraft</h1>\n",
    "        <p style='text-align: center;'>Smart AI-powered caption generator for your social media posts</p>\n",
    "        \"\"\",\n",
    "    )\n",
    "\n",
    "    with gr.Row():\n",
    "        with gr.Column(scale=1):\n",
    "            keywords = gr.Textbox(label=\"📎 Keywords / Context\", placeholder=\"E.g. beach, summer vibes, bestie trip\")\n",
    "            tone = gr.Dropdown(tones, label=\"🎭 Tone\", value=\"Aesthetic\")\n",
    "            emoji_density = gr.Radio(emoji_levels, label=\"✨ Emoji Density\", value=\"Medium\", interactive=True)\n",
    "            language = gr.Dropdown(list(languages.keys()), label=\"🌐 Language\", value=\"English\", interactive=True)\n",
    "            image = gr.Image(label=\"🖼️ Upload an Image (optional)\", type=\"pil\")\n",
    "            generate_button = gr.Button(\"🚀 Generate Caption\", variant=\"primary\")\n",
    "        with gr.Column(scale=1):\n",
    "            output = gr.Textbox(label=\"📝 Generated Caption\", lines=4)\n",
    "\n",
    "    generate_button.click(\n",
    "        fn=generate_caption,\n",
    "        inputs=[keywords, tone, emoji_density, language, image],\n",
    "        outputs=output\n",
    "    )\n",
    "\n",
    "# ✅ Launch\n",
    "app.launch()"
   ]
  },
  {
   "cell_type": "code",
   "execution_count": null,
   "id": "f95f0817-50ba-4c17-b8ed-dfd1139eb0df",
   "metadata": {},
   "outputs": [],
   "source": []
  }
 ],
 "metadata": {
  "kernelspec": {
   "display_name": "Python [conda env:base] *",
   "language": "python",
   "name": "conda-base-py"
  },
  "language_info": {
   "codemirror_mode": {
    "name": "ipython",
    "version": 3
   },
   "file_extension": ".py",
   "mimetype": "text/x-python",
   "name": "python",
   "nbconvert_exporter": "python",
   "pygments_lexer": "ipython3",
   "version": "3.13.5"
  }
 },
 "nbformat": 4,
 "nbformat_minor": 5
}
